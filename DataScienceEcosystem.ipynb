{
 "cells": [
  {
   "cell_type": "markdown",
   "id": "ce6a8d6b",
   "metadata": {},
   "source": [
    "# Data Science Tools and Ecosystem\n"
   ]
  },
  {
   "cell_type": "markdown",
   "id": "989eb8ee",
   "metadata": {},
   "source": [
    "This notebook is to summarize data science tools and environment \n"
   ]
  },
  {
   "cell_type": "markdown",
   "id": "e171a70a",
   "metadata": {},
   "source": [
    "__Objectives of this assignment are :__\n",
    "- Popular language used in data science \n",
    "- Commonly used libraries in data science \n",
    "- Data science Tools \n",
    "- Evaluating arithmetic expressions "
   ]
  },
  {
   "cell_type": "markdown",
   "id": "752888ba",
   "metadata": {},
   "source": [
    "Some of the popular languages that Data Scientists use are:\n",
    "1. Python \n",
    "2. R \n",
    "3. Scala\n",
    "4. Julia \n",
    "5. SQL\n",
    "\n"
   ]
  },
  {
   "cell_type": "markdown",
   "id": "f5a6e971",
   "metadata": {},
   "source": [
    "Some of the commonly used libraries used by Data Scientists include:\n",
    "1. Sklearn\n",
    "2. TensorFlow\n",
    "3. Pandas\n",
    "4. Seaborn\n",
    "5. SciPy \n"
   ]
  },
  {
   "cell_type": "markdown",
   "id": "ef3bdd96",
   "metadata": {},
   "source": [
    "| Data Science Tools   |\n",
    "------------------------\n",
    "| RStudio.             |  \n",
    "| Apache Spark         |\n",
    "| TensorFlow           |\n"
   ]
  },
  {
   "cell_type": "markdown",
   "id": "40bee8ce",
   "metadata": {},
   "source": [
    "### Here are some examples of evaluating arithmetic expressions in Python\n"
   ]
  },
  {
   "cell_type": "code",
   "execution_count": 2,
   "id": "30d5aefc",
   "metadata": {},
   "outputs": [],
   "source": [
    "# This is a simple arithmetic expression to mutiply and then add integers in python.\n"
   ]
  },
  {
   "cell_type": "code",
   "execution_count": 3,
   "id": "ab28e0d9",
   "metadata": {},
   "outputs": [
    {
     "name": "stdout",
     "output_type": "stream",
     "text": [
      "17\n"
     ]
    }
   ],
   "source": [
    "print((3*4)+5)"
   ]
  },
  {
   "cell_type": "code",
   "execution_count": 4,
   "id": "a6c93cc4",
   "metadata": {},
   "outputs": [],
   "source": [
    "# This python code will convert 200 minutes to hours by diving by 60 \n"
   ]
  },
  {
   "cell_type": "code",
   "execution_count": 5,
   "id": "c4471c7d",
   "metadata": {},
   "outputs": [
    {
     "name": "stdout",
     "output_type": "stream",
     "text": [
      "3.3333333333333335 hours\n"
     ]
    }
   ],
   "source": [
    "a=200 \n",
    "b=60\n",
    "print(a/b,\"hours\")\n"
   ]
  },
  {
   "cell_type": "markdown",
   "id": "54e0261c",
   "metadata": {},
   "source": [
    "## Author \n",
    "Jasman Singh\n"
   ]
  },
  {
   "cell_type": "code",
   "execution_count": null,
   "id": "9b17f8fd",
   "metadata": {},
   "outputs": [],
   "source": []
  }
 ],
 "metadata": {
  "kernelspec": {
   "display_name": "Python 3 (ipykernel)",
   "language": "python",
   "name": "python3"
  },
  "language_info": {
   "codemirror_mode": {
    "name": "ipython",
    "version": 3
   },
   "file_extension": ".py",
   "mimetype": "text/x-python",
   "name": "python",
   "nbconvert_exporter": "python",
   "pygments_lexer": "ipython3",
   "version": "3.9.12"
  }
 },
 "nbformat": 4,
 "nbformat_minor": 5
}
